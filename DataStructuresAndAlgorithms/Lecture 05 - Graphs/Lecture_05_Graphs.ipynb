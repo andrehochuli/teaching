{
  "cells": [
    {
      "cell_type": "markdown",
      "metadata": {
        "id": "view-in-github",
        "colab_type": "text"
      },
      "source": [
        "<a href=\"https://colab.research.google.com/github/andrehochuli/teaching/blob/main/DataStructuresAndAlgorithms/Lecture%2005%20-%20Graphs/Lecture_05_Graphs.ipynb\" target=\"_parent\"><img src=\"https://colab.research.google.com/assets/colab-badge.svg\" alt=\"Open In Colab\"/></a>"
      ]
    },
    {
      "cell_type": "markdown",
      "source": [
        "![image.png](data:image/png;base64,iVBORw0KGgoAAAANSUhEUgAAAesAAADQCAIAAACoW94sAAAQAElEQVR4AexdB1yN7RvuVJItsrL3loTsEfoiSqmkZJQURUqUNBRNaVAqSSEqUUSDJNGwR0KSZGQlRUND9b8439c/dEb7jKff6/WeZ97P9T7v9dzPdZ/BW0X+CAIEAZoIlNwKsR0v3GbyGpc8mmVIBkGgxRDg5SF/BAGCQG0IlH94YKUupWjs8a6kFaX8R0VtZUgaQaBlESAM3rL4k95ZF4Gc5w8zqsZ4nzutPFa4pLikinUtZU/LiNWNgQBh8MZAkbTBiQj0mLLieICH9Jj+lMoKQt+ceIc5YUyEwTnhLpIxNAUCfK0EfjVbWkn4+xcQ5MSCCBAGZ8Gb0gImIRCTl5eXmZmZkZHx6dOnigqi+tK5CySrDggUFha+efMmPT09Ozu7tLS0DjVJUSYQIAzOBEicWwR8fezYMTU1tZEjRw4bNmzcuHHjx48fPXo0rhctWuTi4nL//v0fP35wLgBkZE2CwLt378LDw/X09CZMmDBkyJAxY8aIiYmNHTsW1zNnzjQzM4uPj8/Pz2+SvrmsUcLgXHbD/xvu9evX165dKy4uvnr16pMnT8IBHzx4sISEBJ60nj175ubmRkVFGRoa4gmUlZUNCgqqquJaKUGAj0Kh8PJRJZX/8CP/144AfIKdO3eCpuXk5Dw8POB6i4iIYJpNnDhx4MCB8AYSEhJsbGzmzJkzf/58uAiYabU3RFKZQ4AwOHM4cUopjKOgoMDExERKSsrf319YWFhXV/fSpUt37tyJiYmJiIiIjo6Gf/TgwYOkpCRnZ2c8aaDyFStWKCoqogyqc9FRUV7wNT8vL6eo7Ed5ScHHvPzCIvKOFJr3H2u8j4/P7NmzbW1tv3z5oqKigoU/JSXlypUrkZGRmEWxsbG3b99++PAhJp6ysvLz58/hImCCnT59mmajJIMRAoTBGSHEWfl4oiCPODg4tG/ffs+ePSBld3f3BQsW9O3bt0OHDoKCgu3atevSpcuAAQOmTp1qYGAQFxcHfgfdh4aGwmk6cOAAZ+FBbzQFT6K0FaQWSK0MS32bHn9k2QIpTQu/j/RqcG9eTk7OunXr1q9fD/0Ee7sbN24EBgYuX7580KBBnTt3xrxq27YtLvr06QOlDtu+4OBgsLmOjk5qaqqSktLWrVuLioq4F74GjJy3AXVJVTZDAFwM+sY2VkNDA2fsdoWEhBiOAfwOTXPfvn0ISW3evNnOzo5hFc4oINhXXN/S3tFh/7n45GvRIW6O9ltWSXXijLE16ihevnwJFj5y5MiMGTOw5ONi+PDhDHtArMXT0/PEiRM9evTAbg8LAHaHDGuRAn8gwD4M/ofh5GUdEcDuFc5Rdna2ubm5r68vM89YdQ+tW7fGhvfs2bPdu3c3NTXlEk+8VefeErMkJSXnzpg6Zer0mXMlJaeKDm5TDQq5+IUAApKYV1DeIHyHhYVBFfmVzOxJVVX1woULs2bNguSirq7+7ds3ZmuScr8QIAz+CwZOPyFeRN3hbtq0adeuXfUb7uLFi48fPw6xBWx++fLl+jVCanESAtC+EVMBfWOh8/LyQlilHqNDkBPOwbx5886dO2dhYVGPFri5CmFwrrj7iP7funVLW1vbycmJl7f+Nx2COHa+lZWV+vr6Hz8STZgrJg+dQSII6e3tLSEhcfTo0Z49e9IpST8Lah72hQjGICoDl5x+4ebPZeUe6/8ws/KoiG01EUC4ErQ7YsQIW1tbAYGGvilOTU0N7vyTJ0/27t1bsxdyzW0IfP36Ffs5Pj4+V1dXhCgbOPz+/fsj1lJRUYEAO9FSmAeTMDjzWLFlSTwSDg4OJSUlCPd36dKlUcYAFQVOEwJWmZmZjdIgaYQdEfDz88NCvmrVqilTpjSK/QiHysvL37x5MzQ0tFEa5IZGCINz+F1+/Pgx4kuIW6qoqDTWUIcOHbp69eq8vDy03FhtknaaBIEmaxRuMnSPNm3a6OrqNmIncA7QGiR1KHW4IAdDBAiDM4SIvQtERkbCDVdWVm7fvj3NkZR8Tr50NujkcX//owGBZxIfvaZZ8r8M+ErYPl+8eLGsrOy/NPI/FyFw+/bt1NTUBQsWiIuL0xp2wbsn50+fCjgGkfxY0OlzySlZDD/Xi9agqt+/fz8lJYVWsyS9JgKEwWuiwYHXiYmJGJWkpCTONI9XV7SWy2ubupwKPrHf1nixtNQWz9gSmqV/ZmDjDL8+KSnp9WvGdP+zAvnHWQgkJCRgQIhs40zreHbWVlZphcNB/5MnjrrY7Fi++J/FGxyffKFH43DqZ82aBbeAMDgtVP9IJwz+ByAc9RLyN6RqxIgQxqQ3sNKS7627qRh7XoiIupacaDGb1816d3JWOZ0qiIjOnDmzqKioyRicTuckq4URwK4ObjKMGDduHM60joqSYp7u052Pn4+Muhh3LfGUs2b6cVPVzU45dLdt1DYfPXpEq1mSXhMBwuA10eC0648fP+bk5IDBu3XrRm9sFPzxthZsy8vLJ9i+x5L5k3m+ffjwpZBeFR6eXr16oQC6wJkcXIUABLT3798LCgoOGTKEzsApvLw8FD6B1q35+PjbdhCaorg9yEnt4Qm3k0lv6dQaMGAALy9vWloa1gk6xUgWFQFe6n/kzJEIlJaWfv36tUuXLnx8fPQHSOGpKv1eVFVV8e1jxokLd/tLSIoO6Ey/CppFgejo6FPkj8sQgLANBhcSEurcuTPmAN2jqqLGtxOPW6Io3vrdleRHdJQUeBvQUjBvf9SoSLcLrs4kDN74t59FWvz06ZO3tzckRTwPDEziFehA+RZ10EhxmcIS6QW7wrIWKauO6kKhX6tt27Yo8OHDh+fkj8sQgDSHeQUljUJhMEkwQ2oevG179upa9eljQUXN1N+vW7du3a5du6dPn7579+73HPKqFgQIg9cCCrsnQf6Gl2RkZFRZWQkvKT8/n8GIqirKeFoPEpdcprBMfb2+nuL4C7s3OUU8peMoocG8vDycV6xYsZP8cRkCVlZWIiIiX758wUzDHGD+qCwvLCjiadtOgA7vfPv2Dd53YWGhnp4eIXGG2NJBkmFdUoAVEbh8+bK2tjYCTTt27LC2tu7QoUN2djaDb32rqiipEhw3V1l15ap1G7YcOOY7u+MjR/eQkkp6A8zKykI2VgicycFVCMABFxYWLi4uxtSq08C/PE588FVw9Ki+dHgHrA3nQF5eXlxcXElJCYJ4nbrgtsK/I8lto+es8WLjaWhoePz48ZUrV7q6uo4cObJ9+/aIN4Jq8VTQHetPbxvho3/LtBES6tQaT+nP1H+TavkvJSWFQqEgTFpLHkniaASgn4iKilZUVGDK0RtoVRUPb6uOQv9+n2PRh9tWFq5f+8xSnDmWTq0XL15UVVUNHToU/oe0tLSqquqDBw/olOfyLMLgnDABPn/+vHfvXktLy3Hjxh06dGjBggXUUYFhp02bhm1pamoqNaX2MyKY3/NSEqNjLl2MCD/tuFnT/347TQ2FNrRnB5aER48ejRgxgjB47ZByeurYsT9ZOD4+ns5Af3oAHx6677G2t91jYaQjPUfa81EXa1enWf0EaNUqLy+/cuUKcidOnIizubm5urr66tWrk5OT8ZIcfyNA+xn9uyxJYT0ESktLT5w4AcXw+/fvLi4ua9asQSCoppmysrJ4eerUKZxpHl0HzZUYnXPzpKXlLmsbh7BUXvNjZ/eoTqATpcJjBnkdSwX1HSk0WyYZHIrAlClThISEoqKiEDCnNcQuQyeLD+0YF+Lj4ekdcD5JeOaGiNhY82U/qf/vKtSUZ8+eoc1+/frNmjWLmmJgYIDpvW7dOqRTU8i5JgKEwWuiwWbXcXFxurq6N27cgORtYWHRu3fvvwcwefLk0aNHh4eH09vw9p555OK9h3dvXI2Pv56QnHzl7Lbl09rQ5m84SseOHePj44NY+XePJIUbEBg2bJicnBwUDzrEOnSx8Z1nGa9evcZf5rOUMJ89i8T70gcnJiYGvsiyZcs6dfr/ryFpaWlhf7lt27bT5Bc1/4KPMPhfkLBDQkZGhrGxsZ+fn4KCwoEDB0RFRWlZ3a5dOzwAJSUl9vb2tMpQ03n5+KFvCrTip76kcw4LC8OTNnfu3JkzZ9IpRrI4G4ENGzZggE5OTvn5+bigeUDLo9B2B2pUgxjo6emJTaSGhkaN5J+XysrK0AmhjB8+fPjna/LvPwQIg/+HBJv8j6cFUUrogwMHDoTkvWjRIoaGKyoqDhkyBF5zo7gwqampWDxatWplamoKN5xh75xfgFtHOGnSJMTMMR9sbW0bjgGil3C0nz9/rqOjM2bMmL8bXLhwoYeHh7u7u7Oz89+5XJtCGJxtbj20i+DgYMgmIHEHBwdMdEFBQWash7oC0qdQKFu2bKGnpTDRFna4hoaGWVlZmzZtgg/ORA1ShGMRwIwyMzPr27cvKJVBoIUJDOB9Hzx4ELvJnTt30iqOPd/Ro0eDgoLA9bTKcFs6L7cNmE3Hm5SUBO6+fv06Aju7du1CqKdOA5GRkYFWnp2dvXLlypcvX9apbnXh3NxcrAHQT+bMmYNHtzqdXHAtAsOHD0f8HLqHtrY2HUGcIT6IxmNqQfEDiXej+x0+oHjsJi9fvowHoaKCzkc7GfbJIQUIg7P6jYTDC6/Ey8tryZIl2EJS32VVD6PBuStWrLh37x52o1gPfrVQhxPYf+3atdBtxo8f7+vrKyQkVIfKpCjnIoCo47x587AvVFJSOn78eD0G6ubmtmbNmsrKSkjq06ZNY9jCiBEjQkJCHj16BCH+B9d/dwphcIYTpsUKfPv2zcPDw8TEpE+fPvBNwOANMaVNmzaIea5fv/7Zs2dwyfG00HkfWM2OysrKIiIi0Pv58+exfgQEBAwaNKhmAXLNtQhgW2ZkZDR16lRHR0cI2atWrcJOkXmlDqo3uBved/v27TGvIAwyiaSIiAi0lHfv3qFHBp83ZrJFti1GGJwVbx22h2fPnt24cePHjx/t7Ozga2CKN9zQrl27YiXAAc9l27ZtELLB45mZmeiu1saLiorwnEhLSy9evPj+/fuampqwavTo0bUWJonchkBaWhqCIv3794dAh+kUHh4O7xizC2o1Xt69e7e0tLRWTOAT3L59G8Q9ffp06NozZsyIjo6u668ACgsLnzx5Ep47hMHPnz/X2hE3JLIrg3PwvcHkRpzw0qVLOFtbWw8cOLARB8vHx4f1AJKlmppaeno6nrSxY8eCo21sbEDWSEe/oaGhiHxqaGhAMIHwEhcXB9cb+snhw4cRFG1EY0hT7IvA1atXEU5cunQpZil1FNBSLly4YGxsLCAgAM9g8uTJkERA7pBWQNCYRZGRkUeOHMGUA8UjF+IJhG/E5JErISFBbaRO544dO8Jzh26Oyfz+/fs61eWYwoTBWehWvn792srKCjNbSkoKvkz9pjUz44HXg6l/7do1hIN69OiBuBBVJYevjQPKJtL9/PywPwWPh4WFoaSWlhYzLZMy3IAASNnbpWXzKQAAEABJREFU2xtk/cdHugYPHmxvb4/ZsmfPHjExMQRd8BJCB0IvkpKS0O6wjQO5p6SkYJrBJ0hMTNy+fTt4vN6g8fPzw5JRo0YpKytjT1Dvdti3ImFwlrh34EpMaDwSiBBCrYZr0wxmQb50dna+c+cOVg7qAUUF0iT1GmcEixC0hDHQ0JvBHtIF6yMAYQTsfP369b17906YMKFWg4cMGYLYO5x0bPIQO4Evghg4JDskYm7DTwfVwi2ATwA5u9YW6pSIbaWLiwtWiNWrVzfLd2DVybomL0wYvMkhZtgBZrmenl5WVhaejc2bN4PEGVZpxAJdunTp+98fNE0c/73qi/1pI3ZEmmJ3BBCVgQZSUlICxkR0nf5wELkZOnQofG2odhBPrly5gumNeQ5PHHMMvjP96nXNxeZ1+fLliItiB1DXumxdnjB4S94+uAygbHgl2tratra22IS2pDWkb4IAbQQeP368detW6BUg4oboHrR7aGgOwqoQ5bFgIJzT0LbYpz5h8Ja5Vwi8IHi4b98+SNIQ8hDzaRk7SK/chEC9x4r49q5du1auXMn8G/7q3VdDKkJnhzNuZGTUKF8g0RBLmq0uYfBmg/rfjoqKiiAuY5JBXMZuFBGYfzPIfwQBlkQAEZpjx46Zm5tLS0uzpIG/GaWoqIhgqYWFBZ6y3zI49AX3Mnj5tw+P79979rpZ30kaHR2NjR6ihZhh2PQJCwtz6Lwiw+IEBCB5w/V++PAh4pbjxo1jlyEtXLjQx8fH1dV1//797GJzve3kRgav+p7ts1NdbMIMWXnZ2RJisrpOz+n9dna9sf2tImREAwODs2fPImJub28/fPjw37LJC/oIkNxmRwBxyy1btvDx8UHr69WrV7P336AOqZ8V8vf3h2rfoIZ4eH78qGxgC01anRsZ/MfLu/FP8uatMbDf66AtNTDi4HYTt6iyJoM5JyfH0dHRzs5u0qRJHh4es2fPbrKuSMMEgcZB4N69e3A4JCQkIJ4w+RWYjdNx47UyYcKEEydOREREbN++vbKyzixc8e1N+JG9OquU5ZYq6Jjsu5H5tfFMa8yWuJHB+QbP8zwZ7mamq6SkZuXptKAX/+3riU0hphQXFwcEBMCR4eXlhTanqqoKj6Yx7x5piyDQBAicO3fOwcFBQ0Nj7dq1TdB88zU5cuTIkJCQu3fv6urqlpeX16nj60dtNu90Tsvn7cCbd8zBSGHVtrufWPGrELmRwXlbt+tQ/SO+JWUVvDwdOnVpV6fby0ThK1eubN68+eHDh2ZmZohb9uzZk4lKpAhBoIUROHjw4OnTpxGnmT9/fgub0hjd9+nTB57427dv16xZ8/VrHfzo/jNXh15/cDU8KCj8ymlrufeJgecTMxrDokZugxsZvCaEqRGhidn8C+Vl/v+rfDWz63WdlpZmYmJy8uRJNTU1hIDgCNSrGVKJINCsCHz//t3U1BSz18XFhZO+vwzOE7bCEFLU1dVzc3OZwBS+dtHA8VMnDOnxqzDf6JFD+XiqSkvr5sX/qtvkJ65m8NLXsYbmHr3ldhgqjmoUpCF5Ozs7I3gyatQoSN5z585tlGZJIwSBpkYgKysLW8ZOnTq5urpy3lukMC5ENUHlysrK8McZgFlZzFOeWaNMeXx8ckXHIRPHs+KXKtNj8Bpj4MTLLw/0V6jd6iR/1Gu7SKuGDrC0tDQwMHDr1q1lZWWQvFetWtW6deuGNkrqEwSaBYHk5GTsGufMmWNsbIyYTbP02dyd4HmEQCQqKgoST09Pp9d9RVlV0f/jYp/vnbA7kiS5znjhiLb0arVQHpcyeFXBc2N1lZA8iTNh/tN6NpRqr1+/rq+vf/v2bTwAeBKw1LfQ3STdEgTqjMCZM2fgd2/YsAGiX50rs1UFfn5+bJGlpKRUVVVTU1Pp2V5VRc0te5+ku0r/60Q9d4sVrMjfPDzcyOCV3zL2rFN2fyjsdsxTsh+luKiwsPj7j8p/7xn1zjF5zsjI2Llz59GjRxUUFDA5OEk9ZBIBUox9EaiqqnJzczt//ryNjQ2Lvcm1CUHdtWuXiooKlqvExMTau+Hjp7T7FRfLuaenqBjDJx0c6DDyV0Lt5Vs0lRsZPCsu2PbUg+Lse8ZLJ3brIdK3dy+R0YvDUpgJcfz/XuXl5WH2W1tbDxo0CBdY2P+fR64IAiyPQH5+/rZt2968eYPZO2TIEJa3tzENNDIy0tXV1dbWjomJqaVdSlsegWGluY+3rVW/VPlPTFzwTJE2tRRjjSRuZPBuYrJH/Y/4HnYz32m+G2FHO0eHnTqiIsy+n/DHjx8hISEGBgZFRUV2dnaampqs+VVtrDHBiBWsiAD2joaGhiIiIg4ODojysaKJTWzT+vXrsXvGUxwWFvZnVxSExfgDLdc7RTxp26705C7ddZoaq1aqmR6MKKjzB4P+bLvRX3Mjg3foN1Z59VoNTS0diH/UY53SsO5MLbO3bt1CyB6RHwjfpqamvXv3bvRbQhpkawRY3/iEhASQl7S0NEicmz9itmLFCltbW3Nzcz8/v7/uWoVgr7GzZ0wuT48LOBN5+0Fq2rP0568/suAH7LmRwf+6W0wlvH792tLS0svLa/HixZC8xcTEmKpGChEEWAmBoKAgd3f3rVu3Kisrs5JdLWOLrKysh4cHdCQcv1vQXmWn19Xr169eu37j9t2Hd2/dun07xF5DiP/3UizwijA445sAxRDEDY+7T58+Li4uixYtYlyHlCAIsBgC5eXl9vb2ly9fhnIyefJkFrOuxcxBCPfw4cPHjh2zsrL6ywiB3gOGDBTp8lc6CyUQBmdwM8LDwyGW5eTkYMOlpaXFyaIhAyRINhsj8PnzZ8Qtv379iu1j//792XgkTWD6xIkTT5w4cenSJUQ4m6D5pm2SMDhNfO/evbtlyxb4LHp6ehDL+vXrR7MoySAIsDAC6enpkE0GDx4ML6Rjx44sbGmLmTZixAjoS/fu3dPR0cFmpcXsqHvHhMFrwezt27c2NjaQCyUlJffv3y8uLl5LIZJEEGAHBOLi4szMzBQVFTdt2kShUNjB5JaxsW/fvoGBgW/evFm7dm1hYWHLGFH3XjmDwes+bho1vn375uvri0i9kJAQJG8EOmgUJMkEATZAwN/f/9ChQyYmJkuWLGEDc1vaxB49egQHB5eWlq5atQrRr5Y2h6n+CYP/H6aIiAhsNl+/fo2YxsaNGzt37vz/PHJFEGArBEBD2EfeuHHD0dFxwoQJbGV7Sxrbvn17RDUR7lJRUcnOzm5JU5jrmzD4T5wePnyIIEZUVJSmpiboe8CAAT9TyT+CAHsigMC7oaFhWVkZ4pYQB9hzEC1mdZs2bXx8fIYNG6aqqvrixQsGdrR0Nrcz+Pv37+3s7Nzc3CQkJCB5T5kypaXvCOmfINAgBB49eoQI/Pjx4+GLtG3Lml/H1KABNkNlfn5+sMGMGTPU1NSAZzP0WO8uuJfBi4qK/Pz8duzY0aFDBycnJyUlJU79Xs16Tw5Ske0QgBK4Z88edXV1LS0ttjOe1QyGDKWgoAAwaX4HFgtYzKUMHhsbi23my5cvzc3N9fT0unRh6Tfts8A8ISawAQLY+wcGBpqamkpLSzNhLinCGIHt27fT+w4sxg00eQmuY/CnT58aGxuHhoYi3GxtbT148OAmx5h0QBBoYgQQt7S0tEQ4Z9++faKiok3cG3c1j93Mzp07N2/efObMGRYcORcx+KdPnzC/EZoXFxd3cXGZPn06C94PYhJBoK4IvH37Vl9fv1WrVpjVPXpQf9qxrm2Q8vQQWLFiBYRW7Nf9/f3plWuJPK5g8JKSkpMnT8L1RoBi7969ysrKAgICLYE26bNxECCtVCNw584d7PQRgTczMwOJV6eTi8ZFQEZGxsvLCzzu4eHRuC03sDXOZ/Br165B8n78+DH0QbgqwsLCDYSMVCcIsAgC4eHh2FNqaGisWbOGRUziYDNmzZp15MgRBBtsbW1ZZ5iczODp6elwTBDbWb58OcLKQ4cOZR3ciSUEgQYiAGfw9OnTu3fvnj9/fgObItWZRGDy5MnBwcHnzp2DMs5klaYuxpkMnpOTs3//fnt7+1GjRjk7O8+ePbupcWS2fVKOINBgBL59+2ZiYpKRkeHm5jZ8+PAGt0caqAMCABwknpCQoKenhwByHWo2TVFOY/AfP34A3x07dpSXl2ODqaqq2qZNm6aBjrRKEGgBBF6+fGlgYNClSxdEdISEhFrAAq7vcsCAAdjZZ2Zmamlptfh3YHEUgyclJUHyvn///tZff0Ty5vpnjdMAuHnzJrwTSUlJRC8Rlue04bHPeEREREDiJSUl6urqeXl5LWg48wzegkYy7hrroaWl5YkTJ5YsWQLxZOTIkYzrkBIEAbZC4MyZM5AEN23apKamxlaGc6axnTp18vPzwzZIWVn57du3LTVItmfwL1++uLu7I1A5ZMgQ7CsXLFjQUlCSfgkCTYRARUXFvn37Lly4YGtrSz7H0EQg16PZdu3a+fj4jBkzRkVFBepWPVpoeBX2ZvCwsDBjY2PsZcDg2M6Q7/Fp+IQgLbAaAtikI2754cMHOOBc+hFiVrslNezh4+NzcXGZO3cuPPEW+Q4sdmXw27dvb9myJTk5GZtKIyOjnj171kCVXBIEOASBFy9eILTTq1cvaIPYsHPIqDhuGLt371ZSUlq5cuWNGzeaeXDsx+CvX78GXr6+vtLS0o6OjuPGjWtmyEh3BIHmQeD69eumpqaysrIgcfh6zdMp6aV+CCC2rKOjs27duri4uPq1UL9a7MTg+fn5UJ2srKz69u0LyRsMXr8xk1oEgeZCoP79HD9+3MPDY+vWrfLy8vVvhdRsRgQ2bNgAUVdXV/fs2bPN1i3bMHhERATQyc3NhQO+Zs2aDh06NBtGpCOCQHMiUF5eDs3k2rVrDg4OkydPbs6uSV8NRADRONw7MzMzLMANbIrJ6mzA4Pfv38cOBXsTLHEI6YiIiDA5NlKMIMB2CHz58mXbtm0FBQWIj/Xv35/t7CcGQ/Vyc3NzcnJyd3dnEo1Pnz69f/8e548fP+bk5ODuM1kRxViawd+8eYMFzdvbe/bs2ZC8x48fD4vJ0TwIkF6aH4GnT59u3rx52LBhNjY27du3b34DSI+NgsC8efMOHTrk5+eH+0irwYqKCsQ5XF1dVVVVp0+fPnbs2NGjR48aNUpUVHTu3LnQ048cOYI4Nq3q1eksyuCFhYUYv7W1tbCwMFYzGRkZ8hNo1feMXHAkApcuXdq1a9fy5cs3btzIkQPkqkFJSEicOHHiwoUL0H7/GHhlZSWywPKzZs0yMDAIDAz88OFDp06dBg0aNHDgQBDd48ePfX19NTU1Z8yYoaWlRf/9LazI4JjKGPa7d+8sLS2xFhFn5I8ZQF5yHgLwV44ePQq1cMmSJZw3Ou4c0YgRI06ePHnz5k3Iv2VlZVQQHj58qKKisnLlyvj4+JkzZ8JJjY2NzcjISE1NTUhISEpKSi0d23UAABAASURBVE9Pf/bsGWKhmzZtEhQUPHz4MIphYuTn51Nb+OPMWgz+6NEjcPfFixdXr169c+fOPn36/GEuUy9JIYIA+yCAuCUe41u3bkEnFBcXZx/DiaWMEYBPHRwcnJWVtX79+u/fv4OXJSUlQ0JCIAtHRkZeuXLF3NwcKT169GjTpk2rVq0EBATatm3br18/OTm5/fv3Q2Y5cOBA79699+7di5SUlJS/u2QVBoeQDys9PDymTZtGQvB/3yeSwpEIYNrr6+tjW43YFx5Ujhwjlw8K7Hzq1Cl+fv45c+bA9S4uLga/RUVFLVy4EIn0wYELq6end/XqVWjl165dW7ZsGVb6P6q0PIOXlJQcP34cgknHjh3hhmCpYTiwP8ZAXhIE2BGB+/fvGxkZTZgwAfI3nC92HAKx+Q8Ean3ZoUOHkSNHgnwhCIeFhUESgcdda8laEwcMGACFDdERiC0g8T888RZmcCwvmMSvXr3asWOHtrY2SLzWMZBEggCHIQAvzN7eHk4ZIj0cNjQynD8QOHPmjKmpaefOnYOCgur3OUQ4tRBVQJJv375du3btx48fq7toMQZPS0uD0n3u3DlsEMzMzCAYVdtELggCnI3AoUOHAgICLCwssJXm7JGS0eXm5iLOgUimk5MThJR6A8LHx2djY6OhoXHv3j1s2qrbaQEG//Dhg6urq4uLy8SJE+GGQPiutoZcEAQ4G4GioiL4K4jYQ/gePXo0Cw2WmNI0CMB3hu4BP1VTU7OBPVAolN27d48YMcLPzw88Tm2tWRn8x6+fQIPk3bp1a8j58vLyuKDaQc4EAY5H4PXr1wYGBtBA9+3bJywszPHjJQPMzs729PQUEhIC6TUKGiIiIhDES0tL0WxVVRXaZMzgCJ4+fPjQ398fgvWKFSuw71u8ePGaNWvMzc2h7zx//hytMHNcv34dLTx58gRC/oYNG6AKMVOLlCEIcAYCd+7cMTY2nj59OsRDErfkjHvKcBShoaE5OTmgzWHDhjEszGQBOL6IbR4/fjw5ORlV6DH458+fIXeAssePHw/5HI4DlPjo6OiIiAjERvfs2aOoqCguLq6iooL0kpISHhp/6enpVlZWoHsEUnFBvqWeBk4kuX4IsEGt8PBwR0dHHR2d1atXs4G5xMTGQKC8vBxUidUaDEm3vbLb4YdNTbYbbPn3z9HvUiHtCn369AEbww1HMBylamdw9A2pZebMmdj0wXeGYL1582a44deuXYOmg+Pq1asooKuri81gcHAwFhlJSckLFy6gxZoH1h8PDw9nZ+dRo0ZBNkGDNXPJNUGA4xGorKyEGwRfDGGo2bNnc/x4yQCrEcjKyrp16xYc1kmTJlUn1naRf85jj53DvguxsbGXYyIjLt5IeVVeW7nqNEREeXl5IY1ASKmFwV++fIlFA0FPKCTr1q2Lj4+/ffs2Ai9wH0DBY3/9YS5CSHF3d09MTASzL126FC79kiVLwPjUT3+i6dOnT0P9wQy2s7NTUlIiknf1DSAXXILA169fd+zYAfkb+9ehQ4dyyajJMKkIvHr1Ki8vb9y4cYKCgtQUGucf5T8Ehs/bnogAd+rj9OdPQ120hGgUpSZjLvXu3fvu3btwkf9kcKTKysrCZViwYEFCQoKPjw9Ym1qt1nOvXr3A7CgPkaRv375wN/ASrjq4G666vr7+pk2bIOTXWpckEgRYCgE4H1D8Xrx4UVFR0XDD4IIZGhp27doV+gnODW+QtMBeCLx//x4GM6GAUyg8FB5eXn4eZv969uwJLQXt5+bm/sbgWAPgfaempmpra8ODnjJlCpNNUigUBQWFsLCw+fPnQ/ID+4uJiVlbWw8fPpzJFkgxgkDLIoDZO2/ePMxYPHJQBbETbYg92JKamJj8888/iNvz8zP/bDakT1KXtRD49OkTDALb4kz/oPBRygpzM96+e/PqVdar17kFpQzKUyjUd4KAeP/P4JmZmWpqahkZGVBCII/U4+ORiGriMZCRkSkrKwOP0zeC5BIEWAeBpKQk+C5Pnz5FaAcRnZCQEDwFEADrZyEC+9iMInSkrKxcvxZILQ5AgPrmjlatWjEaC0Wwbav3qeEbV6isUFm+fLmKfdAtRlV4BAUFQd84/s/gTk5O8MHhfdjb2zP2Gmj00L59+wMHDkyYMAHiOJYBGqVIMkGAtRA4e/Ys3A5PT09M2oCAAGiDCP98/vy5rlZCfsFzFBMTY2trSz6qVlf0OKw81QmGNMdoXFWl3390GzLXwmmfEwIm+/ZpLRrHqApPQUEBYo0o9i+DX7ly5ciRI2PGjAH/CggIIKPex8CBA9FU9+7dzczM0tLS6t0OqUgQaDYEtLS0rl69umrVKvQI1xsHHj+4I3jJ/IG45bZt27B3dnZ2Hjx4MPMVSUmORKD/rx/JQziE4egqf1S27TpghsSkKdOmz5g+dVjvTvSrlJaWIoYJjoWW8pPB4TjY2NggFY5D165d6VdmJldUVBRbSExoLy8vZsqTMgSBlkUAwf3Zs2cXFxf7+fmtW7eudevWcIbatm3LvFUIgWLODxgwAHHLTp0YPIHMN0tK/o0Au6RgMsAbTk1NZWwwhaeq8gfND9T8Vf/t27evXr3q27evsLDwTwa/ceMGfHApKanFixf/VbieCZBz0HpQUBBckno2QaoRBJoXgQ8fPlhaWkZGRsKb6datG/Od4/ExNzeXl5cHiTNfi5TkbATAsPAMEFx58+YN3ZFWlRR++1b4/edn5OmWq85EmxBnBg0axMfH95PBEbdBnrq6OnRxXNA5Sr9kRYacjrv/qpJOoV9ZQ4YMwZ7048eP586d+5VATgQBVkcA0sfDhw/PnDmDGBQeh/fvf74bjKHRx44d8/Hx2bp169KlSxkWJgW4BwEhIaGpU6dC7khISKA76vbTlqqpLZ3enm6h6kzI36GhoXgpKyuLM+/379/j4uKgp0hISOA13aMqOcBcRllp4fo9T7/RLfgrU05ODkvC5cuXf70iJ4IA6yKARwLBG9iHp05BQWHKlCnwm+DpIIXOAfnRzs4uMTHRwcFh8uTJdEr+m0X+4zIEqKoG1vjycjqfsuyobOLktGM5k9IbAjbQNuCAUxvnhaSCmTp8+HBEIBnAW5oVGnJDbP6MDllJkckvGRTm4Rk7dmyfPn0ePXr05csXhoVJAYJASyFQWVl58OBBTU1NnCGkxMTE3Lt3D5HMfv360TEJ8uCWLVuKiorc3Nzol6TTCMnibATmzp07bdq06OjoRnx3NYKLcLs3bdpEDbfw5ubmYn2A6MHwHYQ5t8+czxLSN3dQHfzh5JnLZYywhzuDmY0VAvsIRmVJPkGgxRDg5eU1NTVFDF9XVxfbXmlpacxYQ0NDPBS0bIJfYmRkNHr06D179ggK0v/MNK02SDrnIwA/AJEVjBMTjElRDoXpHAjShIWFjRgxYvV/X5HGC0UcFUC1ONM9fkQFnK0aMllmxjRZWYm0c8E3PzNW3qHlFxQUfPvGhOZCt2+S2dIIcHj/kpKSeDbWrVvXq1evJUuWBAcHW1hY0BrzpUuXQNxKSko6Ojq0ypB0ggAVASkpqfXr16enpyNSUlbG0O+lVqr9jK0htn1wuG1tbeEfUwvxUum1Q4cO1Nc0z7k3g6+/miGjIszLM32x+tDy5BMXntAs/F9Gly5dcIm4EM7kIAiwMgIQshGQTEpKOnv2rLKyMkI4tVoLudzf3x8uFYi+1gIkkSDwBwIg3AULFgQGBmppaUHz+COXyZfPnz9XU1PD2cTERF5evroWb5s2bfACch7OdI60K1EPsqtGjhB6mfnyY+vuw3u3vhwS8omRF15cXIw2mfhcKUqRgyDA0ghgMu/atevOnTsuLi6ioqIsbSsxjpUQgEC3efNmiHUIaUK/rgeJ379/X1VVNS0tDdGa3bt31xwcL9UbZ9BoVWHsxch3X/NPWq5eprhMYeW222/yX9y5lJT2k6BrNvfHNUTwtm3bQgz6I705X5K+CAINRwAiJoRvtOPs7NyjRw9ckIMgwCQCcXFxoaGh2LohsAlPHLpKfHw8k3UhvHh4eKAKXAeodvv37/8jYPkvg4Nq6bRYmp0UfO6ZrIVX0BFf7CJ9ffzOBDkNzbsfEv3zZ35oVUTA9NWrVxAWhclPAtLCiKSzAwIpKSmg7wkTJsAHJ3FLdrhjLGQjuNvT0xOut7q6+unTp7W1tSFnz5s3b8WKFXiJmDktW8HJISEhKKmnp4f9n42Njbu7OxziP8rz9unTZ+DAgfDS4WX8kVf98vYp7+vFg1erKY8VFR3/809UXFpTabpAsN/J58WV1cX+uLh7925WVtbQoUOxifgji7wkCLALAlFRUdi3rlmzBnFOdrGZ2MkaCPBANgGDI+4tJiYGkxAX9PLyghs+cuTIoKAgBMPhlevq6rq6uoKsESFHOB1VMN+WL1+OwAziMQkJCYsXL46NjUXohY+PD438cfB26tRpxowZ2dnZycm0HOrCx8+L5q1Qmza45jdedVLQ0hld+fHZR5qf5r969SrCphISErV2/Icd5CVBgAURgPd08uRJKysrRKJY0DxiEisjcODAAaglTk5Ow4YNq2mniorKlStXjh8/vnDhQhDvwYMHDQwMQNb//POPjIzM6tWrLSwsTp06hVj62rVrEVfHGjCF9k81/PxUPTWyiTo1u6lx3W6de+Tlw8Y9f18AxFUdHqacWzjgZyC0RuF/Lz9+/IipD8lGTk7u3yTyH0GAfRAoLCw0MzN7+vSpk5PTqFGj2MdwYmnLI1BRUQHRIz09HZOn1l946Nat28qVK+FxQ/yAMw4XATILnHEcYHNwOlzvJ0+eQLIGf9J/J8hPBgf3T5w4EaIMDTecwsf3s1gtwPDy8VEotaTz8MAszH5FRUXq9qHWMiSRIMCaCECCNDQ0bNOmzd69e7kzbsma94UtrCotLd25cyc8AAcHB+r7ROiYPWDAAAgmcLoRooTMjQOh8g0bNkyfPh3qCJ2K1Vk/qRnqOEQWrBvoGOHH6rx6X0Ced3Nzw9KBJaXejZCKBIEWQQDxm23bts2aNQuPQ+vWrVvEBtIpmyLw5csXBL07dOhga2sLXm2GUfxkcHQDsXzZsmVxcXGOjo542ZCjrKxs69atL1++ROwVInhDmiJ1CQLNjMCZM2fwCOjo6GCT28xdk+7YHYH379+DvocMGYK1n0KpXZxo9DH+y+Dwl7FhHDhw4K5duxAYhT9ev55QcfPmzRDp58+fjx0Bmq1fO6QWQaCeCNS3WmVlJTaO58+ft7a2nj17dn2bIfW4FIHMzEzQN7Zu+vr6zQnBvwyOLkHfiLzD84eUbm9vj5S6HhCAjI2Nvb29eXl54YnfuHEDT0VdGyHlCQLNjwBUSwiJr169ggo5fPjw5jeA9MjWCCAgifkDGWPNmjXNPJD/Mzg6RkgT0c8uXbogCo+VJDs7G4lMHo8ePVJQUNi3bx82EdiKQpYxMTGRlZWNiIioqmL06Xsm+yCwlow4AAAQAElEQVTFCAJNgAAUP2wcu3Xr5uTkhMnfBD2QJjkZgcTERDs7O01NTRBg84/zNwZH9wiMRkZGTpo0CbHROXPmYF/J8Be7sX2A9oLtAyrKyMhcuHBh6dKliAWFhobOmDEDYVYknjp1qpzed5yjZ3IQBFoAgYSEBLga8F22bt2KvWMLWEC6ZGcE4KGCKqE9tNQnBv5kcICJ8CO4GJuCd+/ebdmyRVxcfPv27dAHsVN48+YNgq3gdLA2RJKTJ08i4CMqKmplZcXPz48zmLp6E9q7d288G5cuXZKUlDxw4ICUlFRAQEDxr++6Qi/kIAi0OAJBQUGYmZs2bYLj0uLGEAPYDoHAwMATJ05YWlqCJFvK+FoYHKYICwvb2Nhcu3Zt3bp1+fn5CHJCD4FjPm3atJkzZ8KzBstPnTpVTU0NA+jXr9/u3bvj4+PhbkNGR/WaR9euXSHwwzFXUVE5ePAg2oFQzvCrEGu2QK4JAo2OAJQ9aCYxMTHY/2I+N3r7pEGOR8DLy+vixYuYPy37ga/aGZyKPhYWHx8fCNzwrA0NDTHR27Vrh3AlhUIZMGCAnJwcFh+wfGJiInRz+sPo1KmTtrY2BqyqqgrHBzsOd3f3nJwcakfkTBBoTgSwj8R8xlYS+99BgwY1Z9ekLw5AoLKy0sHB4cGDB4h79+/fv2VHRI/BqZbBxVZSUkKI8urVq3fv3r137x5Mv3379tmzZyF/z5w5s3PnztSSDM8dOnTQ0NAAj2PfiuqIdsK7//TpE8OKpABBoLEQePr0qYGBAYjb3t4eHkljNUva4RIEEM8D74G1wF2sEPdmzOA1bwxmfMeOHRv4QTUBAYEVK1YgAgCVHKvCokWLrK2tX716VbMjck0QaAoE4uLi8Phh+wgfoinaJ202OwLN2mFBQQGClhAhsPzDH23Wvml0VjcGp9FIfZKxDMjLy4PH8URBqFm6dCmkmMzMzPq0ReoQBJhAAIH0Q4cOISrTIu/6YsJAUoSlEfj48SMmj4iIiJWVFet8VrHFGLz6XkFLCQkJcXFxef78OeQafX399PT06lxyQRBoOAII3tja2iJmAzEQAfmGN0ha4DYEXr9+De8boUGQOEuNveUZnArHnDlzgoODXV1dv379umzZMj09vfv371OzyJkg0BAEqK5TcXExZhccqIY01bh1SWvsgkBqairoG3rv+vXrWc1mVmFwKi6Ii/r7+x87dqykpERLS2vt2rV37tyhZpEzQaAeCDx+/BhO06hRo/bs2fP3W13r0SCpwm0IJCcnI1Cnrq6urKzMgmNnLQanAiQmJnb48GE/Pz/ECjQ0NNasWRMfz+wPg/KQP4LAfwjExMQgyqKqqrphw4b/0sj/BIE6IIApBOUN0i4c8DpUa8airMjg1OGPHTt2//79kMi7desGBLEAxsbGVlVVUXPJuSURYIe+fXx8jh49amFhsXDhQnawl9jIcgiAfHx9fS0tLadPn85yxv1nEOsyONXC4cOH792799y5c7jAdlhBQSEiIoKaRc4EgVoR+P79O566Bw8eYObAD6i1DEkkCNBH4MiRI+Hh4RDfWHwKsTqDU1Hu37//7t27weOTJk3CwykjI3P69OnS0lJqLjkTBKoR+PDhg6GhIS8vr5OTU69evarTyQVBgHkE3NzcIH9DPxkyZAjztVqkJHswOBWafv36mZqaRkdHz54928XFBbvjwMBAxDypucydSSlORiAlJQX0PXnyZCzzbdq04eShkrE1DQLl5eWIW7548QIeQPfu3Zumk8ZslZ0YnDpuYWHh7du3h4eHKykpubu7g8cPHTpUWFhIzSVnrkUAUwJ7XoS+165dy7UgkIE3BAG4gzt37sTZ3t6+U6dODWmq2eqyH4NToenateuGDRsQKVb976uyPD09v3z5Qs0lZ25DwMPDA8Ia4pbz58/ntrGT8TYKArm5udjAdenSxcbGpkneeNooVv7VCLsyOHUgAFpLSysyMnLz5s0IHMvJyTk4OHz+/JmaS87cgEBxcTH8pmfPnkG1HDNmDDcMmYyx0RF4+/atkZHR6NGjTUxMKBRKo7ffdA2yN4NTcREUFFyxYgX0cQMDg2vXrklJSdnZ2b1584aaS84cjMDr16/19fU7duzo7OzcrVs3Dh4pGVrTIZCRkQFhVlJSUldXt+l6aaKWOYHBqdAICAhQ32sIMfTWrVtycnJmZmZZWVnUXHLmPASSk5Px4M2ZM8fY2Jifn5/zBsgyI+JkQ27fvm1qaqqioqKurs6O4+QcBq9Gf9GiRaGhoQglp6enL126FA95WlpadS654AwEoHq7urrq6OioqalxxojIKJofgfj4+L179yKiJisr2/y9N0qPHMjgwIVCoWBPdOrUKTc3t0+fPikrK0MoT0lJQRY5OAABb2/vCxcuYLMFB5wDhkOG0CIIYAp5enrCAZ87d26LGNAonXImg1dDM3v2bH9/fz8/v8LCwjVr1mhoaNy9e7c6l1ywHQL5+fnu7u6IODk6Og4dOpSh/aQAQaBWBI4fP37y5EkrK6vx48fXWoBdEjmcwam3QVxc/MiRI76+vu3btweP40DAk5pFzmyEwPPnzw0NDcvKyqZNm8YWn7ZgI2y5ylQPD4+4uDh7e/vhw4ez+8C5gsGpN0lMTGz//v2QyLt06QIiUFRUxF2kZpEz6yOQkJCA0PQ///yDe8fLy0XzlvVvDRtZWFFRYWdn9/jxYxcXl379+rGR5bRM5bonAVtvZ2dnSOSjRo0yMDBQUlI6f/48LXRaMp30XQOBoKAgiCdbtmxZvnx5jWRySRCoAwIlJSXm5ua5ubmIXrLLRy4ZDo/rGJyKyKBBg6ytrRHKgAoGLWzhwoXwzclXZVHBYalzeXm5g4NDTEwMnrqpU6eylG3EGDZCAJEwY2NjQUFB+ODt2rVjaPn3/PeJkaf2O7v4n7mYlce6X6LHpQxOvX99+vTZuXNnVFTU/PnzQRNLlixBcAMyKzWXnFscgZycnG3btiF66erq2rdv3xa3hxjApgi8e/cOG274bRYWFsz8SHHBy3gt6clS6kae3gc2KErPXqgV/7qINcfeFAzOmiOlaVW3bt22bt0aGRm5dOnSAwcOSElJIexZUFBAswLJaBYE0tLSjIyMBg8ebGtr26FDh2bpk3TCgQhkZmbC+54yZYq+vj6TwyspKB+/zCj6WlzslbiwA3p5N4/v9oqpZLJy8xYjDP4v3l27dt24cWNsbKyqqio8cUTMvLy88vLy/s0m/zUvAlevXoW7tGzZsk2bNlEo7PQ9Fc2LE+mNAQKpqammpqYKCgqampoMitbI7jZuvtE2/ZmjB4v07i+trDapN09WxsuKGgVY55Iw+G/3om3btuvXrw8PD9fV1T116pSMjAzkV4Q+fitEXjQxAv7+/t7e3jt27GDfT8o1MUKkeRoI/J6ckJCAKJeGhoa8vPzvOXV49e1dZvZnnsGjRraqQ6XmK0oYvBasweNqamqXLl3Ctis+Pn7BggWIfpCvyqoFqcZOQjB5z549N27cwMIpJibW2M2T9rgIgejoaDc3N8jfUlJSDRh26Slvl2eCk3RUZzSgkSasShicJrj8/PzLly8/f/68jY1NUlISdvTYjr1+/ZpmBZLRMAQ+ffqEgAQiyfv27UOQuWGNkdpcjUBwcDB2ctbW1tOmTWsIEPdPmBp5P9F2cF46rH1D2mm6uoTBGWBLoVAWLlwIXQXxNIRElixZgqjI06dPGVQj2XVE4PHjx3CXREVF8dS1Y+LNXnVsnvWLEwsbDQEfH5+IiAjsm0eOHNmQRjMiHRW1PaYaHdqrPYNlQzGEwZm6xeDx+fPnBwUFeXh4vH//XkVFBRE2kA5TlUkhRgjgeYNeuWrVKi0tLUZlST5BgB4C2MDduXMHKtzAgQPplWOU9/Kqp4rOvnH6RyMc1Vj5jVCEwRndyd/zZ8yYcezYscOHD3///l1VVVVbWxvT5fci5FXdEEDQMjAwkPqJ+brVJKUJAjUQQBDF0tLy7du3zs7OPXr0qJFT58svKSHqKhuftJNQmCl8NeZiZMSFi1dvfSqqqnNDTV+BMDgPT1Xeea9dOgZ7H39j9h2fkyZNAolDaBMUFFy7du3q1asTExOb/maxaA/1NqukpASPXEpKipOT07hx4+rdDqlIECgsLESYqrKy0t7evuEqXOaT2+mfW1HeXdugICMts0RWdomcpsnNNxUsiDOXM3jVh7RYfYUFSnpW3geDM4qYZXDqjRQTE0Ow+8yZM0JCQlu2bFFSUoqPj6dmkTNDBKgfk2vVqpWLi0vPnj0ZlicFCAK0EPj8+TNi4JhFCKK0bt2aVjHm00XlzB6+evks9dGTtPSMjIzMrNfp1wLnD+ZjvoVmK8ndDF74at/WLQ86zjHeuLiboAClXtGKYcOGubq6QgcYPnz45s2bFRUVL1y40Gz3j007gvRkZGQ0ZcoUiCcCAgJsOgpiNisgkJWVBfqeMGHCtm3bKJR6PcN/DaNVm469evfu07dvP+ofLnr3aNOqcRr/q7cGJXA1g1fxddawC4w66rRItMePsvKGqFxDhgzZs2dPVFTU6NGjd+/evXDhwnPnzpWVlTXo5nBoZSDj6OiooaEB9YlDh0iG1UwIpKWlmZiYSElJISLVTF2yWDdczeCUNp1HjhvTloenoLiMpzFWbxERESsrq/Dw8Pnz54PQ5eTkAgICysvLWeymt6Q5Bw8ehO60a9cuQNSSdpC+2R+BW7duWVhYqKurq3Hxb6VyNYM30RxGHBzbOvjjixYt8vLyWrBggZ+f37dv35qoO3ZptqCgYMeOHc+fP9+/f/+oUaPYxWxiJ2siEBsbiwC4np6ejIwMa1pI36rGyiUM3lhI/tmOsLDwpk2boqOj4SMcPXoUuoqnpyfX8nhmZiaCvQj57t27t3Pnzn+CRV4TBOqCwNmzZ318fOAQzJo1qy71OLAsYfCfN5UaoaBQqP//TGmsf+3bt9fU1IyIiNiwYUNISMg///zj4uLy6dOnxmqfLdpJTk42NTWdN2/e9u3b+fn52cJmYiTLIgB/6PTp0zY2NmJi5JtzeAiD/5yoAgL8FB5eAcGmerdQu3btVq5cGRMTAz80Li4O/ri9vf27d+94uOAvNDTU1dVVV1dXVVWVC4bLBUNs0SEeOnQI+qSDg8PgwYNb1BBW6ZzbGPz395uU50f47DbYauDkH/vl+0NXw03bzV3vfyxtopvDx8e3fPnysLAwa2vrhIQEeXl5MzMzDv6qrIqKCmdn5/Pnz2O5mjlzZhOhSprlHgTc3d1v3rwJh6B3797cM2r6I+U2Bq/g4anxsZ2qiu9FBcWFxSJii/X0NAfyl30tKCz58TvL08ev7rngccReLly4sHv37vT09MWLFxsbGz979qzuLbF0jS9fvmBc79+/x/M2sGHfUMHS4yTGNQsClZWVtra2T58+dXR07Ek+/1UDc25jcOgkNcRuga6KWxy9vb09D3oc7rhVuQAAEABJREFUOODuiStXs6m9BWvg04SXUlJSp06dQngTbriamhrCnk+ePGnC/pqx6YyMjK1bt4qIiGC326lTp2bsmX5XJLdlECgoKMjOzq5332VlZTt37szLywN9d+3atd7tcGRFbmNw0DcOFrqV06dPDwwM9PDwKC4uVlFRQcDz1q1bLGRf3U2BQIS4JfYWhoaGvLzcNsHqjheH1igpKcFMOHjwIMLXs2fPHjRo0OrVqyEbHjly5OLFi9iiMTluELeRkVGbNm2gxSGexGQt7ilGHjCWuNcSEhK+vr4IslMoFC0tLcz1pKQklrCsjkYEBARArNy2bduyZcvqWJUU5xAEoHWYm5tPnToVwQ9EsPfu3fvgwQOs5ceOHbOxsdHU1JSWlp4xY8aOHTuwV6M/5g8fPmAuQYWzsLCA/Ei/MHfmEgZnofsuJiYGnyU4OBhbRUx9hD2vXLlCtY/1z+Xl5XZ2dvHx8djqTpo0ifUNJhY2OgKPHz/GJlJcXHzPnj1v3rxRUFCAeH3mzJnExMQbN27AJcfc3rVrl5yc3Nu3b+FTT5kyBSVzcnJqtSQzMxP0jU2qgYFBrQVIIhAgDA4QWOsYMWKEs7MzJPKhQ4dCiIAzGxUVhUgOa1n5uzW5ubkQviF3wvJ+/fr9nklecQUC2EHOnTvXy8urd+/elpaWycnJ4G442uBx+OOioqLgYmVlZWSdPXsWW0xtbe3v37/DW4dLDnL/AyO47ai7dOnStWvX/pFFXtZEgDB4TTRY6Br0DfckIiJizJgx1tbWMjIy586dY00eT09P37Jly8iRI+FwdejAyr9nwkL3l5NMQaQR8siaNWugbmOuwt2Go40JTGeMmNXgepSEYHjv3j1ZWVm4LNXl4bOjQegtcF+qE8lFrQg0PYPX2i1JZA4BuDNWVlahoaGSkpK7d+8Gj584cQJ6BXO1mSqFiBOCqDiKiorgRH/79q2wsBAvccBFYtjEpUuX4EZB8MH2mWFhUoDzEKiqqsIEQIiyZ8+ecLpxDQ2QyWGOHTvW39/fxcUF4cpVq1ZhnqMidpyurq6If0pJSeElOegjQBicPj4skdurVy8IgjExMf/88w88l/nz52PHCrZtoHHwdDZv3gzRBs8enroePXoMGzZs9OjRkEG6dOnSvXt3XCgpKZ0+fTo/P7/Wvo4cOeLv74+HbfHixbUWIIkcj0BgYCAiH926dQsJCYHAXY/xYgPn6emJlUBHR8fDwwPLAJQWEkphEknC4EwC1fLFhIR+/hIQPBR1dXUfHx9sPBH2hMtcD8tSU1MhL86YMePAgQPY+UKgRLAIzyG8IRxOTk54hBQVFTt27Aj6BoljzaD6R9V9YeOMPcGtW7dQC5Gr6nRywVUIpKSkgH/bt28PlwLTqd5jp3I3QppgcIiH0Fjq3VTNitxwTRicze4ynpZ169ZFR0draGiAVbHTxJbz48ePTA4Dng78nTlz5sB3xh4WTnRaWlp4eDgk7I0bN6qoqIC40TKCSCgAJx1neXn5u3fvQpGEw051xj98+IDn9sePH+i6T58+THZNinEYAqWlpZgGoF0IfQsXLmzg6DCroYk/ffo0ICCggU1xVXXC4Gx5u8Hj8MTB4/CdL168CBHDzs7u/fv39AdDfeTA1CBiU1PTq1evwhMXERFp1apVrRWhruChwjpx5coVCQkJOOzKysrYLCNaBb8bz62gYDN9frVW80hiyyKA7WBcXBwiNJs2bWoUS+B9Y8ohCnr79u1GaZAbGiEMzsZ3mZ+fHyFEeNAWFhZJSUlLlizBxcuXL2sdEuKf4O79+/dji3r27FnE+iF211ry78S5c+dGRkZCToEWr6amNm3aNE1Nzb+LkZRGQ4DlG6qsrMQGDmbCDaflASC3Tgf2c4aGhoio13xfSp1a4MLChMHZ/qbj+QF3nz9/HsJ0enr60qVLTUxMcPHHwOAy45EbOnQonGj47H/kMnwJund3d8eCgZUA7TTkay4Y9kUKsD4CCKVgZyYqKorVnY61L2+F7zHbaYxAPPXYaZf4soROeYh1nTp1glNSXFxMpxjJqkaAMHg1FGx/AS0yKCgIsaBXr16pqqrq6elBVaSO6ty5c3C6Bw0adOLEiREjRlAT63ru3r07AlZoGXtnCOV1rU7KcxICiJHAWZaRkYGgR3tcFbfCPMxtXB7mfP32Nf9L7ue8b4XlNb4b9O+K/fv3R0Q0IyMDK8TfuSTlbwQIg/+NCXun4AEIDAyEv1xSUgLdA5vcy5cvW1patm7dGoHHBr5JC424ubnB8zp+/Dhk0NqQImmcj0BVVRVVqoaeRne0VRU8vF17zLX2PeR9yMf3iN/hAzZzBtOLnfDx8U2YMAESzaNHj+i2TDL/RYAw+L9AcNh/U6ZMOXz48MmTJyF6rFy58uHDh/Pnz4fY0vBhCgsLI5KJdmxtbSsqKnBBDm5DoKys7MWLFwjDDBs2jP7YKTw8FF4+AT4e5v+GDx+OwsQHBwjMHITBmUGJXcuMGzcOPEuhUKCVQx9vrGFISUlJSkpiHw3vvrHaJO2wEQLwkfPz89u1a9ejRw/6ZvPy85cVvIoOOX/hfHhYWFji42yGv5/Sq1cvtMklv0GIkTbwIAz+fwA58urSpUsfPnyQlZVdu5bhNwR9f5mSEHTU91hIxKOsz3SeNEFBwVWrVmErfebMGY4EjR0HBVbFfgvSGeTpb9++5eXlff78+ePHj6DC169fv3z5EuLys2fPnjx5AoHi/v37N27cuHr16sWLFy9cuABuPXXqFGIk/v7+2Lp5enpCK9u3b5+9vT3C4xYWFgh7GBkZ6evrb9y4UVtbW0tLC7EWBLcFBAToYkXha9WqtCj9mJMd/nZb7z5+8eEPuhWQCWGdl5cXo8AEw0ty0EeAMDh9fNg+NyYmBmNAiB8KIy5oHeW5T63VF42eIGlgYbvLcO2kceLrXaLo/N4c3PCuXbvCB//06ROtNkk6LQR+/PhRXFz89evXnJwcMCzY8Pnz5+BWiF3Ql5OSksCtWHojIiKo3BoQEODn53fo0CGEqV1cXBwcHCBk7dy5E8RqYmKyfft26hs9jI2N8dLU1BRZ5ubmCH7s2rULJffs2YOtGOgYFffu3evk5ISIiI+PD+Il4eHhsbGxycnJKSkpEEaw2MMqrAQIeAgJCfXu3Rs6iZiY2PTp03HHsY1TU1MDg2/YsAFh7cLCQkYyWlV5SUm7bjMPRMZejr2SkJjgpidV+0cPaiAFiQarEQzA3rFGMrmsHQHC4LXjwjGp0BM7deokLi5Ob0RVn/ZvXm4Z8FzX7TScsujoi/6W8jkpd4po/+Yztrp4quHZwb+j1zLL58HRA5+WlpaCUkFJ4K8vX75Ue69v374FvWZmZoJh09LS4L2CYa9fv37lyhUAdf78+dDQ0ODgYCrDent7I4AMhgVL2tjYgEBNTU1BrwYGBrq6uuvXr8c2SF1dHSSIyISGhgZ40NDQEGVAsqhy4MABsCpCxKdPn4ZfHBsbm5CQcPfuXTA7DADRwzAYCYMhX4iIiEAvRkgZoWnEriFqSUtLy8nJIXaN9tG4jo7O5s2b4TijfSsrK7jA8KlhHpaBo7/+fH19YTB1SXB0dATLw9fGArB161ZURHU0AmuXL18uLy+/ePFiMPjcuXNx0xFpxHRq27YtPP3c3FyGd5hC4W/boQ3+UKW1AD/D8ljVUAYOPs5cc9R/oITB648d69fEA5adnT148OC+ffvSsfZ9XIDjyUcKu3326sqOGzFk2Ggxla2uZw6ZdGxNpxLP6NGjkQ2Ow7l5Dnh8UAkKCgowLniLWDzgNlKJFUwHWYDKrdHR0dXcCkI8cuQIqAr8CN8TxAq3FFRlZmYGagNhUf1WOLN4iQPeK7LgwKIMKBgHyoMBQbLQE8B0Bw8eBAGGhIRERkbGx8ffuXMHDAuWB+98//4dbiNEgG7dug0cOHDMmDESEhJgPRkZGWVl5TVr1oDH4SyjZfjCzr/+wKqwCvSNlpEINxkH/GUcMBUHiBUGoAoMg7WoDtLX09Nbt24dhCwVFRXsriCRLVy4cMGCBbNnzwbDTp48GV4zegfF49b369cPyy3iz1jIwaGIiDT8ZmE/h5ax7P39sYM/Gsd6w0PhY6C1/F4nKysLCTAbZ3IwRIAwOEOI2LgAfEk4bgg3wQOiPYwfCZcvf2k7cvly6ZploGBSKDUT/rzGLhtJeN7gGFK9V2iv4FboKqBX+Ixv3rwBtYFkHz9+DIbFVv3atWsQXqKiorB5h4aOXfyxY8eowuv+/fvBZXAVQZfgUBArXFdQFdV1Xb16NfxWqncJKRYsBrYFq4L1oNh6eXmBVYOCgqA5oPG4uDgIEffu3UO/L168wBr2+fNnGMnPzw/lB9QwdOhQEBwcyWnTpoFhQX/wXuFsghOh8KJTavugTtgDnxqsDY81ICAA6wHUDKrB6BcGg2phMOgVvvaWLVvA0WgBZK2qqgp3GM2i8fnz54Nb0dfEiRMRWwax9u/fH050z549oUWAW+Fvdu7cuWPHjmB/kCzCDAICArAWcjAQZsEDy8DMmTNhGEDGmd5R+SP3wy1vGydnp72ODvYOLl63XjH4qA40ejQ4fvx4nMnBEAHC4AwhYuMCCAfBMQQv0B1DwevX2QJCwwf2p0vYfzUB0kEaImDwWMGnOODJwk/EGQf1AmfQMXgQBA2J4OTJk+fOnQOJg2Gh+WZkZIDoIVxAxwBnYUno06cPCA4uJHxJbNuxfwdxQ3gFOYIlQZdMHugR3isoHiwM81AXSwIaqRYHanqv8+bNA8NOnToVDAtdYtSoUaB4kCxUYDAshgnVAuZRKHXDB+Bw8AGgsMBcvXoVmjXtYfKPmSWvunTa5ztJCUlJyTdu3ki+/TqX3mcy4dRjC4XlDbeDdrMk5/8IEAb/PxacdwU/DgdCQ3SHVvnjRyUPH/7olvorE7SLNLAevFcovFB14TWDu0GakAIQK4Nr7O/vf+LECXiv8JGhZiAFagakAxQAvYJbQfEQXjdt2gRu1dTUhPD6B7fOmjVrypQp4PSRI0cOGjRowIABUITArdUOLHgf+gBWKar3CvewziPBMMhRRwSg1WAfg00VVmI6VcfJbDwRFhYahnhB2M+/U76KE7rQKY/9E/QoaPrYmtApRrKqESAMXg0FB16A2jp06ABlAwoy7eG169ZNqCwvK/sd7SK15VC/ChFhNDzMYFg8z3CfQbJgWOg2UAbAqq1bt4anVlttksbeCGBfgrUWmzwsyY01ErgaWPIpFApEs8Zqk+PbIQzOybcYIgB8GUT8PtL7AnHBSRKT+AruhZ+/9RsWVZVVVb8l/PHi+fPnSIEvjDNbHnU02t3dHRuF2+SLT//DDXumsb9+Ji0yMvK/tAb9j30bwtEKCgpEQmEeR8LgzGPFfiURwISqi4giSJyO9WMXr1af2Omw8bq9wdcyXr19nZkW6Wulpmn99TtNCoeEgigWfHx43HRa5pgshGEuq30AAAUpSURBVF4h9Xh7ez958oRjBtXAgcA/QBS3qqoKUVzqhqwhDUKQsbS07Nq1K1Q4SGENaYqr6hIG5/DbvXDhQjxjV65coTfOzuPsjgasGF+8XWXBXMl58yXnym86WNF3ZDtBmrG7Bw8evHz5ctq0aYg90muZI/Kys7MRBcXuHqOBLoQzOagIyMrK6uvrP378eN26dfn5+dTEepzT0tLg0ZeUlABnyHH1aIFrqxAGZ8dbXweb//nnH0jhPj4+797R07mFR8kERCXdunzKdLOOgeX+6/fuHbda3or27EBkqry8fMmSJRzvLiGEAFrBJgbRWuCOlziTg4oAgsZ2dnaKiooQUlatWoWljppep/OtW7eUlJQyMjKMjIyMjY3rVJcUpv2MEmw4AgH4yHg8srKyoAPQHxBv++6T5slt0DfYsFZp8ojedD79/OLFC19fXyjgy5Yto98mB+Ri8Tt9+jTkgsWLF2M42NDgTI5qBKDUeXp6Yqt3/vx5KSmpqKio6iyGF1gOIUwB2NTU1J07dzo4OHC8Q8AQk7oWIAxeV8TYrDz2/tra2ngwPDw86MYz6zAu0NmnT5+0tLS6d+9eh2psWBTMsm3btsmTJ5uYmIBuMALgiTM5aiKAaPnx48dVVFQQJFi0aBEmxp07d+i+T5zn+/fvcXFxS5cuRXD469eviGHu2bOHvG2pJqpMXjc3gzNpFinWiAiAgBCFAxlhl0qloYY07u/vj8d19OjRBgYGDWmH9et++fJFV1cXQgEWP5wRvIXN/PyMv9kDxbjtQATy6NGjJ06cGD58+OHDhydNmoT9GXADTSNeUlBQUFZWBjxB8dgLgqxB9JKSkhcuXJCWlo6OjoaYzm2INdZ4CYM3FpIs3Q62qOLi4gEBAebm5g0xFA8kFgO0ADdcSEgIFxx8JCYmXrt2DR6iurr6sGHDqCsWNHEQEAePut5DExAQUFVVvXr1Kogbk+3s2bN6enqg6YkTJ4qKio4dO1ZMTGzq1KlycnKYhNevX0cY3MvLC8Xmzp1b705JRcLgXDEHunTpAs+od+/eiDtBEIBDVI9hX758GVxWWFjo6OgID6seLbBXlTFjxkCAQphu8ODBI0eO7NGjB+zHGS9xQY5aEejZs+fGjRtv3LgRGxtrZmYmLy8/cOBABA/ghkMk6d+///Lly/ft25eQkAASB7zN+N6eWu1l+0TC4Gx/C5kcwPjx46kkjniRpqZmnb5TsKSkBE+drKxsdnY2HChIw0x2ytbFQD1wEkNCQrDZP3fuHHXU27dvX7FiBVuPqxmMh9YE73v37t2hoaGgcuxmkpOTccYeLigoyNDQcMqUKSD0ZrCE47sgDM7xt/j/A4TmiCdq1qxZkFOwdfX29s7MzPx/No2rmJiYJUuWQENHOPTAgQOWlpY0CnJ4cnl5OUZIPeOCHEwi0KlTJxEREXjfOEMuZ7IWKcYkAoTBmQSKQ4ohqgnlcevWra9evdLR0Zk5c6aWlhZCSXCuIfjC1y4tLcWGNycn5+bNm1BL4ElJSUlBP0HoCVQOZRMxPQ7Boo7DAA5RUVELFiyoY71GKE6aIAjQQoAwOC1kODYdEUgnJyfE6DQ0NOBRQlpZuHDhiBEjZsyYAV8bgSawNmRf7HONjY2x7UXECT77+fPnwf4cCwoTA4MLiU0MzkyUJUUIAs2EAGHwZgKa1boBQfv6+t67d+/MmTMrV67E9jY1NRW+9sWLF+/cuUN9XwFU4Lt378bHx6upqRHVktXuILGHIMDDw/M/AAAA///u+/l+AAAABklEQVQDAJoMkzVhWo4wAAAAAElFTkSuQmCC)"
      ],
      "metadata": {
        "id": "gV1DhfgtSQ-D"
      }
    },
    {
      "cell_type": "code",
      "source": [
        "class Graph:\n",
        "    def __init__(self, num_of_vertices):\n",
        "        self.v = num_of_vertices\n",
        "        self.edges = [[-1 for i in range(num_of_vertices)] for j in range(num_of_vertices)]\n",
        "        self.visited = []\n",
        "\n",
        "    def add_edge(self, u, v, weight):\n",
        "        self.edges[u][v] = weight\n",
        "        self.edges[v][u] = weight\n",
        "\n",
        "g = Graph(6)\n",
        "g.add_edge(0,1,2) #A:0 B:1\n",
        "g.add_edge(0,2,1) #A:0 C:2\n",
        "g.add_edge(1,3,1) #B:1 D:3\n",
        "g.add_edge(2,3,3) #C:2 D:3\n",
        "g.add_edge(2,4,4) #C:2 E:4\n",
        "g.add_edge(3,5,2) #D:3 F:5\n",
        "g.add_edge(4,5,2) #E:4 F:5"
      ],
      "metadata": {
        "tags": [],
        "cell_id": "ee18a17b404e40dfa11e8a49af55f1d3",
        "source_hash": "f253ec10",
        "execution_start": 1662750783668,
        "execution_millis": 0,
        "deepnote_to_be_reexecuted": false,
        "deepnote_cell_type": "code",
        "id": "DkzfdNy36ngF"
      },
      "outputs": [],
      "execution_count": null
    },
    {
      "cell_type": "code",
      "source": [
        "print(g.v)\n",
        "print('    A  B  C  D     E  F')\n",
        "for i in range(6):\n",
        "    c = chr(65+i)\n",
        "    print(c,g.edges[i])"
      ],
      "metadata": {
        "tags": [],
        "cell_id": "186e85a9d9d541a6a19204aff089ec26",
        "source_hash": "1e2c5e4e",
        "execution_start": 1662750967983,
        "execution_millis": 28,
        "deepnote_to_be_reexecuted": false,
        "deepnote_cell_type": "code",
        "id": "KQD6YbBS6ngG"
      },
      "outputs": [],
      "execution_count": null
    },
    {
      "cell_type": "code",
      "source": [],
      "metadata": {
        "id": "LtXZg2-nSUwB"
      },
      "execution_count": null,
      "outputs": []
    },
    {
      "cell_type": "markdown",
      "source": [
        "Graph Visualization Tool (Pyvis)"
      ],
      "metadata": {
        "tags": [],
        "cell_id": "771b9bcdf9484e91add4f9af97157c4b",
        "is_collapsed": false,
        "formattedRanges": [],
        "deepnote_cell_type": "text-cell-p",
        "id": "QVqxMlwX6ngG"
      }
    },
    {
      "cell_type": "markdown",
      "source": [
        "https://pyvis.readthedocs.io/en/latest/tutorial.html"
      ],
      "metadata": {
        "tags": [],
        "cell_id": "34c4a415-0eee-4e8e-a2df-9876077d5fa2",
        "is_collapsed": false,
        "formattedRanges": [
          {
            "url": "https://pyvis.readthedocs.io/en/latest/tutorial.html",
            "type": "link",
            "ranges": [],
            "toCodePoint": 52,
            "fromCodePoint": 0
          }
        ],
        "deepnote_cell_type": "text-cell-p",
        "id": "q9BtiJdF6ngG"
      }
    },
    {
      "cell_type": "code",
      "source": [
        "!pip install pyvis\n",
        "from pyvis.network import Network"
      ],
      "metadata": {
        "tags": [],
        "cell_id": "da5e037210bd413cb300426c568a9b74",
        "source_hash": "68344c58",
        "execution_start": 1662751076117,
        "execution_millis": 4489,
        "deepnote_to_be_reexecuted": false,
        "deepnote_cell_type": "code",
        "id": "aoegEZqm6ngG"
      },
      "outputs": [],
      "execution_count": null
    },
    {
      "cell_type": "code",
      "source": [
        "net = Network('500px', '500px')\n",
        "net.add_node(1,'CWB')\n",
        "net.add_node(2,'JVL')\n",
        "net.add_node(3,'PG')\n",
        "net.add_node(4,'SJP')\n",
        "\n",
        "net.add_edge(1,4,weight=10)\n",
        "net.add_edge(2,1,weight=0.7)\n",
        "net.add_edge(3,1,weight=0.7)\n",
        "net.add_edge(3,2,weight=0.7)\n",
        "net.add_edge(3,4,weight=0.7)\n",
        "\n",
        "adj_list = net.get_adj_list()\n",
        "print(adj_list)\n",
        "#net.show('net.html')\n",
        "net.save_graph('net.html')\n"
      ],
      "metadata": {
        "tags": [],
        "cell_id": "d8679e7a24b2496392bd02465184fc1d",
        "source_hash": "7e7f84d3",
        "execution_start": 1662751255584,
        "execution_millis": 301,
        "deepnote_to_be_reexecuted": false,
        "deepnote_cell_type": "code",
        "id": "m9n33Q8S6ngH"
      },
      "outputs": [],
      "execution_count": null
    },
    {
      "cell_type": "code",
      "source": [
        "#2025.2: Não está mais suportando\n",
        "from IPython.display import HTML\n",
        "HTML(filename=\"net.html\")"
      ],
      "metadata": {
        "id": "gnM35aJ2N-G7"
      },
      "execution_count": null,
      "outputs": []
    },
    {
      "cell_type": "markdown",
      "source": [
        "Monte o grafo dos personagens de Game of Thrones"
      ],
      "metadata": {
        "tags": [],
        "cell_id": "9b52670a30ba4dde857804510f2dbb08",
        "is_collapsed": false,
        "formattedRanges": [
          {
            "type": "marks",
            "marks": {
              "bold": true
            },
            "toCodePoint": 48,
            "fromCodePoint": 0
          }
        ],
        "deepnote_cell_type": "text-cell-p",
        "id": "69cIbMLI6ngH"
      }
    },
    {
      "cell_type": "code",
      "source": [
        "!wget https://raw.githubusercontent.com/pupimvictor/NetworkOfThrones/master/stormofswords.csv\n",
        "!cat stormofswords.csv"
      ],
      "metadata": {
        "id": "rqN32c5GS7FB"
      },
      "execution_count": null,
      "outputs": []
    },
    {
      "cell_type": "code",
      "source": [
        "#Implemente aqui"
      ],
      "metadata": {
        "tags": [],
        "cell_id": "8cc3f7e93c8248098f231c3b7b8868a7",
        "source_hash": "856b0c6",
        "execution_start": 1662750789026,
        "execution_millis": 4,
        "deepnote_to_be_reexecuted": false,
        "deepnote_cell_type": "code",
        "id": "M6blvDak6ngH"
      },
      "outputs": [],
      "execution_count": null
    }
  ],
  "nbformat": 4,
  "nbformat_minor": 0,
  "metadata": {
    "deepnote": {},
    "orig_nbformat": 2,
    "deepnote_full_width": false,
    "deepnote_notebook_id": "4a3c5b5385b34a159f7fb02a73ccd280",
    "deepnote_persisted_session": {
      "createdAt": "2022-09-09T19:47:48.921Z"
    },
    "deepnote_execution_queue": [],
    "colab": {
      "provenance": [],
      "include_colab_link": true
    },
    "language_info": {
      "name": "python"
    },
    "kernelspec": {
      "name": "python3",
      "display_name": "Python 3"
    }
  }
}