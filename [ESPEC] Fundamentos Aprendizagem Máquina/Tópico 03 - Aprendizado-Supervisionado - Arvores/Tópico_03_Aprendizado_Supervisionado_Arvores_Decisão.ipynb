{
  "nbformat": 4,
  "nbformat_minor": 0,
  "metadata": {
    "colab": {
      "provenance": [],
      "toc_visible": true,
      "authorship_tag": "ABX9TyMH3hbOriv1VpNQiNt0Y3Wc",
      "include_colab_link": true
    },
    "kernelspec": {
      "name": "python3",
      "display_name": "Python 3"
    },
    "language_info": {
      "name": "python"
    }
  },
  "cells": [
    {
      "cell_type": "markdown",
      "metadata": {
        "id": "view-in-github",
        "colab_type": "text"
      },
      "source": [
        "<a href=\"https://colab.research.google.com/github/andrehochuli/teaching/blob/main/%5BESPEC%5D%20Fundamentos%20Aprendizagem%20M%C3%A1quina/T%C3%B3pico%2003%20-%20Aprendizado-Supervisionado%20-%20Arvores/T%C3%B3pico_03_Aprendizado_Supervisionado_Arvores_Decis%C3%A3o.ipynb\" target=\"_parent\"><img src=\"https://colab.research.google.com/assets/colab-badge.svg\" alt=\"Open In Colab\"/></a>"
      ]
    },
    {
      "cell_type": "markdown",
      "source": [
        "#Tutorial Árvores de Decisão\n",
        "Neste tutorial, vamos explorar o algoritmo Árvore de Decisão utilizando a biblioteca scikit-learn. A Árvore de Decisão é um método de classificação que utiliza uma estrutura hierárquica de nós para tomar decisões a partir de atributos das amostras. O funcionamento do algoritmo se baseia na seleção dos melhores atributos para particionar o conjunto de dados de forma a maximizar o ganho de informação e, consequentemente, a reduzir a entropia dos dados."
      ],
      "metadata": {
        "id": "SemoXMRPG8Aq"
      }
    },
    {
      "cell_type": "markdown",
      "source": [
        "![image.png](data:image/png;base64,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)"
      ],
      "metadata": {
        "id": "pqkfkzEsR1Qr"
      }
    },
    {
      "cell_type": "markdown",
      "source": [
        "#Dataset\n",
        "\n",
        "Aqui apresentamos alguns datasets para ilustrar árvores de decisão.\n",
        "Você pode testar o pipeline de treino e teste para diferentes datasets:\n",
        "\n",
        "*   Classificação de Vinhos\n",
        "*   Cancer de Pulmão\n",
        "*   Iris (Flores)\n",
        "\n"
      ],
      "metadata": {
        "id": "wzNrQDKUQ5z-"
      }
    },
    {
      "cell_type": "code",
      "source": [
        "from sklearn.datasets import load_iris, load_wine, load_breast_cancer, load_diabetes\n",
        "import pandas as pd\n",
        "#Seed (Garante a reproducibilidade)\n",
        "random_state = 9999\n",
        "\n",
        "# carrega os dados do conjunto de dados iris\n",
        "##dataset = load_iris()\n",
        "dataset = load_wine()\n",
        "##dataset = load_breast_cancer()\n",
        "\n",
        "\n",
        "# converte os dados em um DataFrame do Pandas\n",
        "df = pd.DataFrame(data=dataset.data, columns=dataset.feature_names)\n",
        "\n",
        "# adiciona a coluna de target\n",
        "df['target'] = dataset.target\n",
        "\n",
        "#Detalhamento dos tipos de dados\n",
        "df.info()\n",
        "\n",
        "#Shuffle e mostrar os primeiros 30 elementos\n",
        "df.sample(frac=1).head(20)"
      ],
      "metadata": {
        "id": "Z2AYd0E2HwRc"
      },
      "execution_count": null,
      "outputs": []
    },
    {
      "cell_type": "markdown",
      "source": [
        "#Holdout\n"
      ],
      "metadata": {
        "id": "fEBR_AtDTz2_"
      }
    },
    {
      "cell_type": "code",
      "source": [
        "from sklearn.model_selection import train_test_split\n",
        "\n",
        "X = dataset.data\n",
        "y = dataset.target\n",
        "\n",
        "print(\"Full: \", X.shape,y.shape)\n",
        "X_train, X_test, y_train, y_test = train_test_split(\n",
        "    X, y, test_size=0.33, random_state=random_state\n",
        ")\n",
        "\n",
        "print(\"Train: \", X_train.shape,y_train.shape)\n",
        "print(\"Test: \", X_test.shape,y_test.shape)\n"
      ],
      "metadata": {
        "id": "4UFuujCfHzaJ"
      },
      "execution_count": null,
      "outputs": []
    },
    {
      "cell_type": "markdown",
      "source": [
        "#Treinando o Modelo\n",
        "\n",
        "Durante o treinamento de uma árvore de decisão, o algoritmo avalia os atributos de cada amostra e divide os dados em subgrupos mais homogêneos com base no atributo mais relevante. Esse processo é repetido recursivamente para cada subgrupo até que sejam alcançadas folhas puras, contendo apenas amostras de uma única classe. Para classificar uma nova amostra, basta percorrer a árvore seguindo as ramificações correspondentes aos valores de seus atributos até chegar a uma folha que indica a classe mais provável. Em resumo, a árvore de decisão cria uma estrutura de decisão em forma de árvore durante o treinamento e a usa posteriormente para classificar novas amostras"
      ],
      "metadata": {
        "id": "eXxqVDxT2QMi"
      }
    },
    {
      "cell_type": "code",
      "source": [
        "from sklearn.tree import DecisionTreeClassifier\n",
        "from sklearn.metrics import accuracy_score\n",
        "\n",
        "# Build a Gaussian Classifier\n",
        "model = DecisionTreeClassifier()\n",
        "\n",
        "# Model training\n",
        "model.fit(X_train, y_train)\n",
        "y_pred = model.predict(X_train)\n",
        "accuracy = accuracy_score(y_pred, y_train)\n",
        "\n",
        "print(\"Train Accuracy:\", accuracy)"
      ],
      "metadata": {
        "id": "jTQf6sQFJiA3"
      },
      "execution_count": null,
      "outputs": []
    },
    {
      "cell_type": "code",
      "source": [
        "from sklearn.tree import plot_tree\n",
        "import matplotlib.pyplot as plt\n",
        "\n",
        "plt.figure(figsize=(18,12))\n",
        "plot_tree(model, filled=True)\n",
        "plt.title(\"Decision tree computed during training\")\n",
        "plt.show()"
      ],
      "metadata": {
        "id": "ichptOltSPZG"
      },
      "execution_count": null,
      "outputs": []
    },
    {
      "cell_type": "markdown",
      "source": [
        "#Testando"
      ],
      "metadata": {
        "id": "2K8xg0swOU5w"
      }
    },
    {
      "cell_type": "markdown",
      "source": [],
      "metadata": {
        "id": "HfghqD7BT9Yb"
      }
    },
    {
      "cell_type": "code",
      "source": [
        "y_pred = model.predict(X_test)\n",
        "accuracy = accuracy_score(y_pred, y_test)\n",
        "\n",
        "print(\"Test Accuracy:\", accuracy)"
      ],
      "metadata": {
        "id": "saWayf60JosW"
      },
      "execution_count": null,
      "outputs": []
    },
    {
      "cell_type": "markdown",
      "source": [
        "#Análise dos Resultados\n",
        "\n",
        "Analisando a acurácia do treino e teste, nota-se que o modelo generalizou o problema, ainda que com acurácia abaixo de 85%."
      ],
      "metadata": {
        "id": "A3Jv-dLLPbpP"
      }
    },
    {
      "cell_type": "code",
      "source": [
        "from sklearn.metrics import classification_report\n",
        "report = classification_report(y_pred, y_test)\n",
        "print(report)"
      ],
      "metadata": {
        "id": "Jnt0IXhdKJvH"
      },
      "execution_count": null,
      "outputs": []
    },
    {
      "cell_type": "code",
      "source": [
        "from sklearn.metrics import confusion_matrix, ConfusionMatrixDisplay\n",
        "\n",
        "labels = [0,1,2]\n",
        "cm = confusion_matrix(y_test, y_pred, labels=labels)\n",
        "disp = ConfusionMatrixDisplay(confusion_matrix=cm, display_labels=labels)\n",
        "disp.plot();"
      ],
      "metadata": {
        "id": "qxT6Iu7eKBfs"
      },
      "execution_count": null,
      "outputs": []
    },
    {
      "cell_type": "markdown",
      "source": [
        "#Analisando Fronteiras de Decisão\n",
        "\n",
        "Abaixo computamos com o auxilio do scikit-learn, as fronteiras de decisão, utilizando pares de váriaveis."
      ],
      "metadata": {
        "id": "x885VCrHVjpq"
      }
    },
    {
      "cell_type": "code",
      "source": [
        "import numpy as np\n",
        "\n",
        "\n",
        "from sklearn.datasets import load_iris\n",
        "from sklearn.tree import DecisionTreeClassifier\n",
        "from sklearn.inspection import DecisionBoundaryDisplay\n",
        "\n",
        "\n",
        "# Parameters\n",
        "n_classes = len(np.unique(y))\n",
        "plot_colors = \"ryb\"\n",
        "plot_step = 0.02\n",
        "\n",
        "\n",
        "for pairidx, pair in enumerate([[0, 1], [0, 2], [0, 3], [1, 2], [1, 3], [2, 3]]):\n",
        "\n",
        "    # We only take the two corresponding features\n",
        "    X = dataset.data[:, pair]\n",
        "    y = dataset.target\n",
        "\n",
        "    # Train\n",
        "    clf = DecisionTreeClassifier().fit(X, y)\n",
        "\n",
        "    # Plot the decision boundary\n",
        "    ax = plt.subplot(2, 3, pairidx + 1)\n",
        "    plt.tight_layout(h_pad=0.5, w_pad=0.5, pad=2.5)\n",
        "    DecisionBoundaryDisplay.from_estimator(\n",
        "        clf,\n",
        "        X,\n",
        "        cmap=plt.cm.RdYlBu,\n",
        "        response_method=\"predict\",\n",
        "        ax=ax,\n",
        "        xlabel=dataset.feature_names[pair[0]],\n",
        "        ylabel=dataset.feature_names[pair[1]],\n",
        "    )\n",
        "\n",
        "    # Plot the training points\n",
        "    for i, color in zip(range(n_classes), plot_colors):\n",
        "        idx = np.where(y == i)\n",
        "        plt.scatter(\n",
        "            X[idx, 0],\n",
        "            X[idx, 1],\n",
        "            c=color,\n",
        "            label=dataset.target_names[i],\n",
        "            cmap=plt.cm.RdYlBu,\n",
        "            edgecolor=\"black\",\n",
        "            s=15,\n",
        "        )\n",
        "\n",
        "plt.suptitle(\"Decision surface of decision trees trained on pairs of features\")\n",
        "plt.legend(loc=\"lower right\", borderpad=0, handletextpad=0)\n",
        "_ = plt.axis(\"tight\")"
      ],
      "metadata": {
        "id": "XbXgIXM0UxzZ"
      },
      "execution_count": null,
      "outputs": []
    },
    {
      "cell_type": "markdown",
      "source": [
        "#Exercícios\n",
        "\n",
        "Utilizando a função 'make_classification' para gerar datasets sintéticos, crie diferentes cenários e avalie o desempenho da árvore de decisao.\n",
        "\n",
        "Considere:\n",
        "\n",
        "* Aumentar o número de características\n",
        "* Complexidade do dataset (Classes com overlap ou linearmente separaveis)\n",
        "\n",
        "Avalie:\n",
        "* Tempo de treino e teste\n",
        "* Desepenho (Acurácia e Matriz de Confusão)\n",
        "* Produza uma analise crítica\n",
        "\n"
      ],
      "metadata": {
        "id": "FmeZvEr_UAeq"
      }
    },
    {
      "cell_type": "markdown",
      "source": [
        "O Scikit-Learn e o Kaggle também possuem outras bases interessantes. Pesquise nos respectivos sites, bases de classificação e teste com os três modelos que já aprendemos (KNN, NAIVE BAYES e ÁRVORES)"
      ],
      "metadata": {
        "id": "mbuixFLGX83p"
      }
    }
  ]
}